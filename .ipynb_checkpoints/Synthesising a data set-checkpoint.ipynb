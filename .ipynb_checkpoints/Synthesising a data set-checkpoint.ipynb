{
 "cells": [
  {
   "cell_type": "markdown",
   "metadata": {},
   "source": [
    "### By Carlos Montes\n",
    "\n",
    "December 2018\n",
    "\n",
    "In this notebook I am going to look at a real phenomenon of my choice: heart attacks and the influence of its risks factors. A heart attack is usually caused by the buildup of plaque in the coronary arteries. The plaque builds up over time to eventually slow or completely block blood flow to the heart muscle. What matters now is the variables that condition the appearance of this health issue. It's worth mentioning that there may not be a most definitive one by itself, it seems to be just a question of balance between themselves. Anyways they are approximately graded from greater to lesser likelihood of importance.\n",
    "\n",
    "For the purpose of this exercise I will synthesise a data set with the values of all the risk factor which affect the heart attack. Half of the samples represent males and the other half woman being 400 in total.\n",
    "\n",
    "## 1) Age\n",
    "As we get older, our risk of a heart attack goes up. Men age 45 or older and women age 55 or older are more likely to have a heart attack than are younger men and women [[1]](https://www.mayoclinic.org/diseases-conditions/heart-attack/symptoms-causes/syc-20373106) This is a discrete numerical variable \n",
    "\n"
   ]
  },
  {
   "cell_type": "markdown",
   "metadata": {},
   "source": [
    "## 2) Gender\n",
    "Men face a greater risk of heart disease than women. On average, a first heart attack strikes men at age 65. For women, the average age of a first heart attack is 72 [[2]](https://www.health.harvard.edu/heart-health/the-heart-attack-gender-gap). This is non-numerical parameter -a string- which follows a Bernoulli distribution since there are just 2 possible outcomes (man and woman) being one of them more likely to occur (men)."
   ]
  },
  {
   "cell_type": "markdown",
   "metadata": {},
   "source": [
    "## 3) Family history\n",
    "Having a family history of cardiovascular disease increases the risk of developing cardiovascular diseases such as heart attacks. Genes can pass on the risk of cardiovascular disease, and they can also be responsible for passing on other conditions such as high blood pressure or high cholesterol levels [[3]](https://www.bhf.org.uk/informationsupport/risk-factors/family-history)"
   ]
  },
  {
   "cell_type": "markdown",
   "metadata": {},
   "source": [
    "## References\n",
    "|[1]| [Mayo Clinic](https://www.mayoclinic.org/diseases-conditions/heart-attack/symptoms-causes/syc-20373106)|\n",
    "|[2]| [Harvard](https://www.health.harvard.edu/heart-health/the-heart-attack-gender-gap)|\n",
    "|[3]| [British Heart Foundation](https://www.bhf.org.uk/informationsupport/risk-factors/family-history)|\n",
    "https://www.health.com/health/gallery/0,,20538581,00.html?slide=121137#121137 \n"
   ]
  },
  {
   "cell_type": "code",
   "execution_count": null,
   "metadata": {},
   "outputs": [],
   "source": []
  }
 ],
 "metadata": {
  "kernelspec": {
   "display_name": "Python 3",
   "language": "python",
   "name": "python3"
  },
  "language_info": {
   "codemirror_mode": {
    "name": "ipython",
    "version": 3
   },
   "file_extension": ".py",
   "mimetype": "text/x-python",
   "name": "python",
   "nbconvert_exporter": "python",
   "pygments_lexer": "ipython3",
   "version": "3.7.1"
  }
 },
 "nbformat": 4,
 "nbformat_minor": 2
}
